{
 "cells": [
  {
   "cell_type": "code",
   "execution_count": 2,
   "metadata": {},
   "outputs": [],
   "source": [
    "import numpy as np\n",
    "import tensorflow as tf \n",
    "from tensorflow import keras"
   ]
  },
  {
   "cell_type": "code",
   "execution_count": 3,
   "metadata": {},
   "outputs": [],
   "source": [
    "data = np.load(r'data\\train_balanced.npy', allow_pickle=True)\n",
    "split = int(data.shape[0] * 0.8)\n",
    "width = 480\n",
    "height = 640\n",
    "\n",
    "train = data[:-split]\n",
    "test = data[-split:]\n",
    "\n",
    "X_train = np.array([i[0] for i in train]).reshape(-1, width, height, 1)\n",
    "Y_train = np.array([i[1] for i in train])\n",
    "X_test = np.array([i[0] for i in test]).reshape(-1, width, height, 1)\n",
    "Y_test =  np.array([i[1] for i in test])"
   ]
  },
  {
   "cell_type": "code",
   "execution_count": 6,
   "metadata": {},
   "outputs": [],
   "source": [
    "X_train_scaled = X_train / 255.0\n",
    "X_test_scaled = X_test / 255.0"
   ]
  },
  {
   "cell_type": "code",
   "execution_count": 7,
   "metadata": {},
   "outputs": [
    {
     "data": {
      "text/plain": [
       "((1329, 480, 640, 1), (1329, 9))"
      ]
     },
     "execution_count": 7,
     "metadata": {},
     "output_type": "execute_result"
    }
   ],
   "source": [
    "X_train.shape, Y_train.shape"
   ]
  },
  {
   "cell_type": "code",
   "execution_count": 8,
   "metadata": {},
   "outputs": [],
   "source": [
    "import tensorflow_hub as hub\n",
    "\n",
    "model_url = \"https://tfhub.dev/tensorflow/resnet_50/classification/1\"\n",
    "base_model = hub.KerasLayer(model_url, trainable=False)\n",
    "\n",
    "model = tf.keras.Sequential([\n",
    "    tf.keras.layers.InputLayer(input_shape=(width, height, 1)),\n",
    "    tf.keras.layers.Resizing(224, 224, interpolation='bilinear'),\n",
    "    tf.keras.layers.Lambda(lambda x: tf.tile(x, [1, 1, 1, 3])),\n",
    "    base_model,\n",
    "    tf.keras.layers.Dense(9, activation='softmax')\n",
    "])\n",
    "\n",
    "model.compile(optimizer='adam', loss='categorical_crossentropy', metrics=['accuracy'])"
   ]
  },
  {
   "cell_type": "code",
   "execution_count": 46,
   "metadata": {},
   "outputs": [
    {
     "name": "stdout",
     "output_type": "stream",
     "text": [
      "Epoch 1/50\n",
      "42/42 [==============================] - 319s 8s/step - loss: 2.1822 - accuracy: 0.1512 - val_loss: 2.1710 - val_accuracy: 0.1503\n",
      "Epoch 2/50\n",
      "42/42 [==============================] - 309s 7s/step - loss: 2.1608 - accuracy: 0.1415 - val_loss: 2.1517 - val_accuracy: 0.1310\n",
      "Epoch 3/50\n",
      "42/42 [==============================] - 309s 8s/step - loss: 2.1429 - accuracy: 0.1550 - val_loss: 2.1358 - val_accuracy: 0.1310\n",
      "Epoch 4/50\n",
      "42/42 [==============================] - 308s 7s/step - loss: 2.1282 - accuracy: 0.1610 - val_loss: 2.1222 - val_accuracy: 0.1405\n",
      "Epoch 5/50\n",
      "42/42 [==============================] - 308s 7s/step - loss: 2.1157 - accuracy: 0.1633 - val_loss: 2.1115 - val_accuracy: 0.1405\n",
      "Epoch 6/50\n",
      "42/42 [==============================] - 308s 7s/step - loss: 2.1051 - accuracy: 0.1633 - val_loss: 2.1021 - val_accuracy: 0.1405\n",
      "Epoch 7/50\n",
      "42/42 [==============================] - 308s 7s/step - loss: 2.0963 - accuracy: 0.1633 - val_loss: 2.0938 - val_accuracy: 0.1405\n",
      "Epoch 8/50\n",
      "42/42 [==============================] - 308s 7s/step - loss: 2.0886 - accuracy: 0.1633 - val_loss: 2.0874 - val_accuracy: 0.1405\n",
      "Epoch 9/50\n",
      "42/42 [==============================] - 309s 7s/step - loss: 2.0824 - accuracy: 0.1633 - val_loss: 2.0813 - val_accuracy: 0.1405\n",
      "Epoch 10/50\n",
      "42/42 [==============================] - 308s 7s/step - loss: 2.0768 - accuracy: 0.1633 - val_loss: 2.0765 - val_accuracy: 0.1405\n",
      "Epoch 11/50\n",
      "42/42 [==============================] - 309s 8s/step - loss: 2.0719 - accuracy: 0.1633 - val_loss: 2.0718 - val_accuracy: 0.1405\n",
      "Epoch 12/50\n",
      "42/42 [==============================] - 309s 7s/step - loss: 2.0678 - accuracy: 0.1490 - val_loss: 2.0682 - val_accuracy: 0.1405\n",
      "Epoch 13/50\n",
      "42/42 [==============================] - 309s 8s/step - loss: 2.0641 - accuracy: 0.1633 - val_loss: 2.0647 - val_accuracy: 0.1405\n",
      "Epoch 14/50\n",
      "42/42 [==============================] - 309s 8s/step - loss: 2.0610 - accuracy: 0.1543 - val_loss: 2.0617 - val_accuracy: 0.1575\n",
      "Epoch 15/50\n",
      "42/42 [==============================] - 309s 8s/step - loss: 2.0579 - accuracy: 0.1580 - val_loss: 2.0592 - val_accuracy: 0.1405\n",
      "Epoch 16/50\n",
      "42/42 [==============================] - 309s 8s/step - loss: 2.0553 - accuracy: 0.1670 - val_loss: 2.0569 - val_accuracy: 0.1575\n",
      "Epoch 17/50\n",
      "42/42 [==============================] - 309s 8s/step - loss: 2.0532 - accuracy: 0.1685 - val_loss: 2.0549 - val_accuracy: 0.1575\n",
      "Epoch 18/50\n",
      "42/42 [==============================] - 309s 8s/step - loss: 2.0512 - accuracy: 0.1685 - val_loss: 2.0529 - val_accuracy: 0.1575\n",
      "Epoch 19/50\n",
      "42/42 [==============================] - 309s 8s/step - loss: 2.0494 - accuracy: 0.1685 - val_loss: 2.0514 - val_accuracy: 0.1575\n",
      "Epoch 20/50\n",
      "42/42 [==============================] - 310s 8s/step - loss: 2.0478 - accuracy: 0.1685 - val_loss: 2.0498 - val_accuracy: 0.1575\n",
      "Epoch 21/50\n",
      "42/42 [==============================] - 309s 7s/step - loss: 2.0466 - accuracy: 0.1685 - val_loss: 2.0486 - val_accuracy: 0.1575\n",
      "Epoch 22/50\n",
      "42/42 [==============================] - 311s 8s/step - loss: 2.0451 - accuracy: 0.1685 - val_loss: 2.0472 - val_accuracy: 0.1575\n",
      "Epoch 23/50\n",
      "42/42 [==============================] - 310s 8s/step - loss: 2.0441 - accuracy: 0.1685 - val_loss: 2.0461 - val_accuracy: 0.1575\n",
      "Epoch 24/50\n",
      "42/42 [==============================] - 309s 8s/step - loss: 2.0429 - accuracy: 0.1685 - val_loss: 2.0452 - val_accuracy: 0.1575\n",
      "Epoch 25/50\n",
      "42/42 [==============================] - 310s 8s/step - loss: 2.0421 - accuracy: 0.1685 - val_loss: 2.0444 - val_accuracy: 0.1575\n",
      "Epoch 26/50\n",
      "42/42 [==============================] - 310s 8s/step - loss: 2.0411 - accuracy: 0.1685 - val_loss: 2.0438 - val_accuracy: 0.1575\n",
      "Epoch 27/50\n",
      "42/42 [==============================] - 310s 8s/step - loss: 2.0403 - accuracy: 0.1685 - val_loss: 2.0428 - val_accuracy: 0.1575\n",
      "Epoch 28/50\n",
      "42/42 [==============================] - 309s 8s/step - loss: 2.0395 - accuracy: 0.1685 - val_loss: 2.0422 - val_accuracy: 0.1575\n",
      "Epoch 29/50\n",
      "42/42 [==============================] - 310s 8s/step - loss: 2.0389 - accuracy: 0.1685 - val_loss: 2.0414 - val_accuracy: 0.1575\n",
      "Epoch 30/50\n",
      "42/42 [==============================] - 310s 8s/step - loss: 2.0383 - accuracy: 0.1685 - val_loss: 2.0412 - val_accuracy: 0.1575\n",
      "Epoch 31/50\n",
      "42/42 [==============================] - 309s 8s/step - loss: 2.0378 - accuracy: 0.1685 - val_loss: 2.0406 - val_accuracy: 0.1575\n",
      "Epoch 32/50\n",
      "42/42 [==============================] - 310s 8s/step - loss: 2.0373 - accuracy: 0.1685 - val_loss: 2.0399 - val_accuracy: 0.1575\n",
      "Epoch 33/50\n",
      "42/42 [==============================] - 309s 8s/step - loss: 2.0370 - accuracy: 0.1685 - val_loss: 2.0395 - val_accuracy: 0.1575\n",
      "Epoch 34/50\n",
      "42/42 [==============================] - 310s 8s/step - loss: 2.0365 - accuracy: 0.1685 - val_loss: 2.0391 - val_accuracy: 0.1575\n",
      "Epoch 35/50\n",
      "42/42 [==============================] - 320s 8s/step - loss: 2.0359 - accuracy: 0.1685 - val_loss: 2.0387 - val_accuracy: 0.1575\n",
      "Epoch 36/50\n",
      "42/42 [==============================] - 321s 8s/step - loss: 2.0355 - accuracy: 0.1685 - val_loss: 2.0383 - val_accuracy: 0.1575\n",
      "Epoch 37/50\n",
      "42/42 [==============================] - 311s 8s/step - loss: 2.0352 - accuracy: 0.1685 - val_loss: 2.0381 - val_accuracy: 0.1575\n",
      "Epoch 38/50\n",
      "42/42 [==============================] - 309s 8s/step - loss: 2.0349 - accuracy: 0.1685 - val_loss: 2.0376 - val_accuracy: 0.1575\n",
      "Epoch 39/50\n",
      "42/42 [==============================] - 310s 8s/step - loss: 2.0348 - accuracy: 0.1685 - val_loss: 2.0376 - val_accuracy: 0.1575\n",
      "Epoch 40/50\n",
      "42/42 [==============================] - 309s 8s/step - loss: 2.0343 - accuracy: 0.1685 - val_loss: 2.0370 - val_accuracy: 0.1575\n",
      "Epoch 41/50\n",
      "42/42 [==============================] - 310s 8s/step - loss: 2.0341 - accuracy: 0.1685 - val_loss: 2.0368 - val_accuracy: 0.1575\n",
      "Epoch 42/50\n",
      "42/42 [==============================] - 310s 8s/step - loss: 2.0340 - accuracy: 0.1685 - val_loss: 2.0368 - val_accuracy: 0.1575\n",
      "Epoch 43/50\n",
      "42/42 [==============================] - 309s 8s/step - loss: 2.0337 - accuracy: 0.1685 - val_loss: 2.0363 - val_accuracy: 0.1575\n",
      "Epoch 44/50\n",
      "42/42 [==============================] - 310s 8s/step - loss: 2.0335 - accuracy: 0.1685 - val_loss: 2.0363 - val_accuracy: 0.1575\n",
      "Epoch 45/50\n",
      "42/42 [==============================] - 309s 8s/step - loss: 2.0332 - accuracy: 0.1685 - val_loss: 2.0362 - val_accuracy: 0.1575\n",
      "Epoch 46/50\n",
      "42/42 [==============================] - 309s 8s/step - loss: 2.0332 - accuracy: 0.1685 - val_loss: 2.0362 - val_accuracy: 0.1575\n",
      "Epoch 47/50\n",
      "42/42 [==============================] - 309s 8s/step - loss: 2.0330 - accuracy: 0.1685 - val_loss: 2.0358 - val_accuracy: 0.1575\n",
      "Epoch 48/50\n",
      "42/42 [==============================] - 310s 8s/step - loss: 2.0329 - accuracy: 0.1685 - val_loss: 2.0353 - val_accuracy: 0.1575\n",
      "Epoch 49/50\n",
      "42/42 [==============================] - 309s 8s/step - loss: 2.0327 - accuracy: 0.1685 - val_loss: 2.0352 - val_accuracy: 0.1575\n",
      "Epoch 50/50\n",
      "42/42 [==============================] - 309s 8s/step - loss: 2.0325 - accuracy: 0.1685 - val_loss: 2.0352 - val_accuracy: 0.1575\n"
     ]
    }
   ],
   "source": [
    "history = model.fit(X_train_scaled, Y_train, epochs=50, batch_size=32, validation_data=(X_test_scaled, Y_test))\n",
    "model.save(\"model.h5\")"
   ]
  },
  {
   "cell_type": "markdown",
   "metadata": {},
   "source": [
    "Resnet50 no scaling: loss: 2.0325 - accuracy: 0.1685 - val_loss: 2.0352 - val_accuracy: 0.1575"
   ]
  },
  {
   "cell_type": "code",
   "execution_count": 15,
   "metadata": {},
   "outputs": [],
   "source": [
    "import matplotlib.pyplot as plt\n",
    "def plot_hist(history):\n",
    "  plt.plot(history.history['accuracy'], label=\"accuracy\")\n",
    "  plt.plot(history.history['val_accuracy'], label=\"val accuracy\")\n",
    "\n",
    "  plt.xlabel('epoch')\n",
    "  plt.legend()\n",
    "  plt.show()\n",
    "  plt.ylabel(\"accuracy\")\n",
    "#plot_hist(history)"
   ]
  },
  {
   "cell_type": "code",
   "execution_count": 10,
   "metadata": {},
   "outputs": [
    {
     "name": "stdout",
     "output_type": "stream",
     "text": [
      "Epoch 1/50\n",
      "42/42 [==============================] - 565s 14s/step - loss: 2.1832 - accuracy: 0.1828 - val_loss: 2.1721 - val_accuracy: 0.1842\n",
      "Epoch 2/50\n",
      "42/42 [==============================] - 311s 8s/step - loss: 2.1605 - accuracy: 0.1979 - val_loss: 2.1518 - val_accuracy: 0.1872\n",
      "Epoch 3/50\n",
      "42/42 [==============================] - 309s 7s/step - loss: 2.1409 - accuracy: 0.2122 - val_loss: 2.1341 - val_accuracy: 0.1885\n",
      "Epoch 4/50\n",
      "42/42 [==============================] - 308s 7s/step - loss: 2.1241 - accuracy: 0.2137 - val_loss: 2.1192 - val_accuracy: 0.1904\n",
      "Epoch 5/50\n",
      "42/42 [==============================] - 309s 7s/step - loss: 2.1093 - accuracy: 0.2152 - val_loss: 2.1061 - val_accuracy: 0.1857\n",
      "Epoch 6/50\n",
      "42/42 [==============================] - 308s 7s/step - loss: 2.0963 - accuracy: 0.2220 - val_loss: 2.0943 - val_accuracy: 0.1910\n",
      "Epoch 7/50\n",
      "42/42 [==============================] - 309s 7s/step - loss: 2.0846 - accuracy: 0.2257 - val_loss: 2.0842 - val_accuracy: 0.1874\n",
      "Epoch 8/50\n",
      "42/42 [==============================] - 308s 7s/step - loss: 2.0744 - accuracy: 0.2310 - val_loss: 2.0749 - val_accuracy: 0.1885\n",
      "Epoch 9/50\n",
      "42/42 [==============================] - 309s 7s/step - loss: 2.0652 - accuracy: 0.2385 - val_loss: 2.0669 - val_accuracy: 0.1953\n",
      "Epoch 10/50\n",
      "42/42 [==============================] - 308s 7s/step - loss: 2.0566 - accuracy: 0.2430 - val_loss: 2.0598 - val_accuracy: 0.1976\n",
      "Epoch 11/50\n",
      "42/42 [==============================] - 308s 7s/step - loss: 2.0489 - accuracy: 0.2430 - val_loss: 2.0530 - val_accuracy: 0.1959\n",
      "Epoch 12/50\n",
      "42/42 [==============================] - 308s 7s/step - loss: 2.0419 - accuracy: 0.2423 - val_loss: 2.0467 - val_accuracy: 0.1976\n",
      "Epoch 13/50\n",
      "42/42 [==============================] - 309s 8s/step - loss: 2.0353 - accuracy: 0.2453 - val_loss: 2.0410 - val_accuracy: 0.2002\n",
      "Epoch 14/50\n",
      "42/42 [==============================] - 308s 7s/step - loss: 2.0293 - accuracy: 0.2438 - val_loss: 2.0360 - val_accuracy: 0.1974\n",
      "Epoch 15/50\n",
      "42/42 [==============================] - 308s 7s/step - loss: 2.0236 - accuracy: 0.2476 - val_loss: 2.0312 - val_accuracy: 0.1989\n",
      "Epoch 16/50\n",
      "42/42 [==============================] - 309s 7s/step - loss: 2.0184 - accuracy: 0.2438 - val_loss: 2.0266 - val_accuracy: 0.1945\n",
      "Epoch 17/50\n",
      "42/42 [==============================] - 309s 7s/step - loss: 2.0135 - accuracy: 0.2445 - val_loss: 2.0225 - val_accuracy: 0.1949\n",
      "Epoch 18/50\n",
      "42/42 [==============================] - 308s 7s/step - loss: 2.0088 - accuracy: 0.2460 - val_loss: 2.0185 - val_accuracy: 0.1992\n",
      "Epoch 19/50\n",
      "42/42 [==============================] - 309s 8s/step - loss: 2.0047 - accuracy: 0.2468 - val_loss: 2.0149 - val_accuracy: 0.1981\n",
      "Epoch 20/50\n",
      "42/42 [==============================] - 308s 7s/step - loss: 2.0002 - accuracy: 0.2445 - val_loss: 2.0114 - val_accuracy: 0.2051\n",
      "Epoch 21/50\n",
      "42/42 [==============================] - 310s 8s/step - loss: 1.9963 - accuracy: 0.2483 - val_loss: 2.0080 - val_accuracy: 0.2030\n",
      "Epoch 22/50\n",
      "42/42 [==============================] - 311s 8s/step - loss: 1.9925 - accuracy: 0.2438 - val_loss: 2.0049 - val_accuracy: 0.2019\n",
      "Epoch 23/50\n",
      "42/42 [==============================] - 308s 7s/step - loss: 1.9888 - accuracy: 0.2453 - val_loss: 2.0018 - val_accuracy: 0.2071\n",
      "Epoch 24/50\n",
      "42/42 [==============================] - 308s 7s/step - loss: 1.9853 - accuracy: 0.2521 - val_loss: 1.9987 - val_accuracy: 0.2064\n",
      "Epoch 25/50\n",
      "42/42 [==============================] - 309s 7s/step - loss: 1.9821 - accuracy: 0.2491 - val_loss: 1.9960 - val_accuracy: 0.2083\n",
      "Epoch 26/50\n",
      "42/42 [==============================] - 308s 7s/step - loss: 1.9787 - accuracy: 0.2558 - val_loss: 1.9935 - val_accuracy: 0.2079\n",
      "Epoch 27/50\n",
      "42/42 [==============================] - 308s 7s/step - loss: 1.9755 - accuracy: 0.2596 - val_loss: 1.9909 - val_accuracy: 0.2098\n",
      "Epoch 28/50\n",
      "42/42 [==============================] - 308s 7s/step - loss: 1.9725 - accuracy: 0.2656 - val_loss: 1.9884 - val_accuracy: 0.2154\n",
      "Epoch 29/50\n",
      "42/42 [==============================] - 313s 8s/step - loss: 1.9697 - accuracy: 0.2603 - val_loss: 1.9862 - val_accuracy: 0.2137\n",
      "Epoch 30/50\n",
      "42/42 [==============================] - 308s 7s/step - loss: 1.9668 - accuracy: 0.2626 - val_loss: 1.9837 - val_accuracy: 0.2190\n",
      "Epoch 31/50\n",
      "42/42 [==============================] - 307s 7s/step - loss: 1.9640 - accuracy: 0.2686 - val_loss: 1.9813 - val_accuracy: 0.2220\n",
      "Epoch 32/50\n",
      "42/42 [==============================] - 308s 7s/step - loss: 1.9612 - accuracy: 0.2664 - val_loss: 1.9792 - val_accuracy: 0.2216\n",
      "Epoch 33/50\n",
      "42/42 [==============================] - 313s 8s/step - loss: 1.9587 - accuracy: 0.2671 - val_loss: 1.9770 - val_accuracy: 0.2231\n",
      "Epoch 34/50\n",
      "42/42 [==============================] - 309s 8s/step - loss: 1.9560 - accuracy: 0.2686 - val_loss: 1.9750 - val_accuracy: 0.2209\n",
      "Epoch 35/50\n",
      "42/42 [==============================] - 308s 7s/step - loss: 1.9536 - accuracy: 0.2626 - val_loss: 1.9730 - val_accuracy: 0.2226\n",
      "Epoch 36/50\n",
      "42/42 [==============================] - 307s 7s/step - loss: 1.9511 - accuracy: 0.2641 - val_loss: 1.9711 - val_accuracy: 0.2256\n",
      "Epoch 37/50\n",
      "42/42 [==============================] - 309s 7s/step - loss: 1.9487 - accuracy: 0.2664 - val_loss: 1.9690 - val_accuracy: 0.2252\n",
      "Epoch 38/50\n",
      "42/42 [==============================] - 307s 7s/step - loss: 1.9462 - accuracy: 0.2709 - val_loss: 1.9672 - val_accuracy: 0.2224\n",
      "Epoch 39/50\n",
      "42/42 [==============================] - 308s 7s/step - loss: 1.9439 - accuracy: 0.2716 - val_loss: 1.9656 - val_accuracy: 0.2237\n",
      "Epoch 40/50\n",
      "42/42 [==============================] - 308s 7s/step - loss: 1.9418 - accuracy: 0.2679 - val_loss: 1.9638 - val_accuracy: 0.2222\n",
      "Epoch 41/50\n",
      "42/42 [==============================] - 308s 7s/step - loss: 1.9396 - accuracy: 0.2679 - val_loss: 1.9618 - val_accuracy: 0.2252\n",
      "Epoch 42/50\n",
      "42/42 [==============================] - 309s 8s/step - loss: 1.9373 - accuracy: 0.2679 - val_loss: 1.9603 - val_accuracy: 0.2248\n",
      "Epoch 43/50\n",
      "42/42 [==============================] - 308s 7s/step - loss: 1.9352 - accuracy: 0.2649 - val_loss: 1.9586 - val_accuracy: 0.2265\n",
      "Epoch 44/50\n",
      "42/42 [==============================] - 309s 7s/step - loss: 1.9330 - accuracy: 0.2679 - val_loss: 1.9569 - val_accuracy: 0.2256\n",
      "Epoch 45/50\n",
      "42/42 [==============================] - 308s 7s/step - loss: 1.9309 - accuracy: 0.2716 - val_loss: 1.9555 - val_accuracy: 0.2288\n",
      "Epoch 46/50\n",
      "42/42 [==============================] - 309s 7s/step - loss: 1.9288 - accuracy: 0.2709 - val_loss: 1.9539 - val_accuracy: 0.2295\n",
      "Epoch 47/50\n",
      "42/42 [==============================] - 308s 7s/step - loss: 1.9269 - accuracy: 0.2694 - val_loss: 1.9521 - val_accuracy: 0.2294\n",
      "Epoch 48/50\n",
      "42/42 [==============================] - 310s 8s/step - loss: 1.9249 - accuracy: 0.2701 - val_loss: 1.9506 - val_accuracy: 0.2284\n",
      "Epoch 49/50\n",
      "42/42 [==============================] - 343s 8s/step - loss: 1.9229 - accuracy: 0.2679 - val_loss: 1.9492 - val_accuracy: 0.2301\n",
      "Epoch 50/50\n",
      "42/42 [==============================] - 333s 8s/step - loss: 1.9209 - accuracy: 0.2686 - val_loss: 1.9478 - val_accuracy: 0.2284\n"
     ]
    },
    {
     "ename": "NameError",
     "evalue": "name 'plot_hist' is not defined",
     "output_type": "error",
     "traceback": [
      "\u001b[1;31m---------------------------------------------------------------------------\u001b[0m",
      "\u001b[1;31mNameError\u001b[0m                                 Traceback (most recent call last)",
      "Cell \u001b[1;32mIn[10], line 2\u001b[0m\n\u001b[0;32m      1\u001b[0m history2 \u001b[38;5;241m=\u001b[39m model\u001b[38;5;241m.\u001b[39mfit(X_train_scaled, Y_train, epochs\u001b[38;5;241m=\u001b[39m\u001b[38;5;241m50\u001b[39m, batch_size\u001b[38;5;241m=\u001b[39m\u001b[38;5;241m32\u001b[39m, validation_data\u001b[38;5;241m=\u001b[39m(X_test_scaled, Y_test))\n\u001b[1;32m----> 2\u001b[0m \u001b[43mplot_hist\u001b[49m(history2)\n\u001b[0;32m      3\u001b[0m model\u001b[38;5;241m.\u001b[39msave(\u001b[38;5;124m\"\u001b[39m\u001b[38;5;124mmodel2.h5\u001b[39m\u001b[38;5;124m\"\u001b[39m)\n",
      "\u001b[1;31mNameError\u001b[0m: name 'plot_hist' is not defined"
     ]
    }
   ],
   "source": [
    "history2 = model.fit(X_train_scaled, Y_train, epochs=50, batch_size=32, validation_data=(X_test_scaled, Y_test))"
   ]
  },
  {
   "cell_type": "code",
   "execution_count": 23,
   "metadata": {},
   "outputs": [
    {
     "data": {
      "text/plain": [
       "<keras.src.engine.sequential.Sequential at 0x19b0e1dffd0>"
      ]
     },
     "execution_count": 23,
     "metadata": {},
     "output_type": "execute_result"
    }
   ],
   "source": [
    "model"
   ]
  },
  {
   "cell_type": "code",
   "execution_count": 19,
   "metadata": {},
   "outputs": [
    {
     "data": {
      "image/png": "[encoded data removed]",
      "text/plain": [
       "<Figure size 640x480 with 1 Axes>"
      ]
     },
     "metadata": {},
     "output_type": "display_data"
    }
   ],
   "source": [
    "plt.title(\"ResNet50 Model Training\")\n",
    "plt.plot(history2.history['accuracy'], label=\"accuracy\")\n",
    "plt.plot(history2.history['val_accuracy'], label=\"val accuracy\")\n",
    "plt.xlabel('epoch')\n",
    "plt.ylabel(\"accuracy\")\n",
    "plt.legend()\n",
    "plt.show()\n",
    "model.save(\"model2.keras\")"
   ]
  },
  {
   "cell_type": "markdown",
   "metadata": {},
   "source": [
    "Resnet50 scaling: loss: 1.9209 - accuracy: 0.2686 - val_loss: 1.9478 - val_accuracy: 0.2284\n",
    "\n",
    "We got a 73% increase in accuracy just by scaling down the images"
   ]
  },
  {
   "cell_type": "code",
   "execution_count": 21,
   "metadata": {},
   "outputs": [],
   "source": [
    "import tensorflow_hub as hub\n",
    "\n",
    "model_url = \"https://tfhub.dev/tensorflow/resnet_50/classification/1\"\n",
    "base_model = hub.KerasLayer(model_url, trainable=True)\n",
    "\n",
    "model3 = tf.keras.Sequential([\n",
    "    tf.keras.layers.InputLayer(input_shape=(width, height, 1)),\n",
    "    tf.keras.layers.Resizing(224, 224, interpolation='bilinear'),\n",
    "    tf.keras.layers.Lambda(lambda x: tf.tile(x, [1, 1, 1, 3])),\n",
    "    base_model,\n",
    "    tf.keras.layers.Dense(9, activation='softmax')\n",
    "])\n",
    "\n",
    "model3.compile(optimizer='adam', loss='categorical_crossentropy', metrics=['accuracy'])"
   ]
  },
  {
   "cell_type": "code",
   "execution_count": 22,
   "metadata": {},
   "outputs": [
    {
     "name": "stdout",
     "output_type": "stream",
     "text": [
      "Epoch 1/50\n",
      "42/42 [==============================] - 798s 19s/step - loss: 2.5263 - accuracy: 0.1558 - val_loss: 2.4084 - val_accuracy: 0.1705\n",
      "Epoch 2/50\n",
      "42/42 [==============================] - 552s 13s/step - loss: 2.3479 - accuracy: 0.1723 - val_loss: 2.3131 - val_accuracy: 0.1503\n",
      "Epoch 3/50\n",
      "42/42 [==============================] - 543s 13s/step - loss: 2.2731 - accuracy: 0.1798 - val_loss: 2.2493 - val_accuracy: 0.1405\n",
      "Epoch 4/50\n",
      "42/42 [==============================] - 542s 13s/step - loss: 2.2195 - accuracy: 0.1798 - val_loss: 2.1933 - val_accuracy: 0.1616\n",
      "Epoch 5/50\n",
      "42/42 [==============================] - 543s 13s/step - loss: 2.1773 - accuracy: 0.1806 - val_loss: 2.1792 - val_accuracy: 0.1492\n",
      "Epoch 6/50\n",
      "42/42 [==============================] - 542s 13s/step - loss: 2.1546 - accuracy: 0.1663 - val_loss: 2.1511 - val_accuracy: 0.1405\n",
      "Epoch 7/50\n",
      "42/42 [==============================] - 543s 13s/step - loss: 2.1492 - accuracy: 0.1595 - val_loss: 2.1406 - val_accuracy: 0.1411\n",
      "Epoch 8/50\n",
      "42/42 [==============================] - ETA: 0s - loss: 2.1310 - accuracy: 0.1663"
     ]
    },
    {
     "ename": "KeyboardInterrupt",
     "evalue": "",
     "output_type": "error",
     "traceback": [
      "\u001b[1;31m---------------------------------------------------------------------------\u001b[0m",
      "\u001b[1;31mKeyboardInterrupt\u001b[0m                         Traceback (most recent call last)",
      "Cell \u001b[1;32mIn[22], line 1\u001b[0m\n\u001b[1;32m----> 1\u001b[0m history3 \u001b[38;5;241m=\u001b[39m \u001b[43mmodel3\u001b[49m\u001b[38;5;241;43m.\u001b[39;49m\u001b[43mfit\u001b[49m\u001b[43m(\u001b[49m\u001b[43mX_train_scaled\u001b[49m\u001b[43m,\u001b[49m\u001b[43m \u001b[49m\u001b[43mY_train\u001b[49m\u001b[43m,\u001b[49m\u001b[43m \u001b[49m\u001b[43mepochs\u001b[49m\u001b[38;5;241;43m=\u001b[39;49m\u001b[38;5;241;43m50\u001b[39;49m\u001b[43m,\u001b[49m\u001b[43m \u001b[49m\u001b[43mbatch_size\u001b[49m\u001b[38;5;241;43m=\u001b[39;49m\u001b[38;5;241;43m32\u001b[39;49m\u001b[43m,\u001b[49m\u001b[43m \u001b[49m\u001b[43mvalidation_data\u001b[49m\u001b[38;5;241;43m=\u001b[39;49m\u001b[43m(\u001b[49m\u001b[43mX_test_scaled\u001b[49m\u001b[43m,\u001b[49m\u001b[43m \u001b[49m\u001b[43mY_test\u001b[49m\u001b[43m)\u001b[49m\u001b[43m)\u001b[49m\n",
      "File \u001b[1;32mc:\\Users\\Alex Zavalny\\Desktop\\GTA 5 Self Driving Car\\gta5\\lib\\site-packages\\keras\\src\\utils\\traceback_utils.py:65\u001b[0m, in \u001b[0;36mfilter_traceback.<locals>.error_handler\u001b[1;34m(*args, **kwargs)\u001b[0m\n\u001b[0;32m     63\u001b[0m filtered_tb \u001b[38;5;241m=\u001b[39m \u001b[38;5;28;01mNone\u001b[39;00m\n\u001b[0;32m     64\u001b[0m \u001b[38;5;28;01mtry\u001b[39;00m:\n\u001b[1;32m---> 65\u001b[0m     \u001b[38;5;28;01mreturn\u001b[39;00m \u001b[43mfn\u001b[49m\u001b[43m(\u001b[49m\u001b[38;5;241;43m*\u001b[39;49m\u001b[43margs\u001b[49m\u001b[43m,\u001b[49m\u001b[43m \u001b[49m\u001b[38;5;241;43m*\u001b[39;49m\u001b[38;5;241;43m*\u001b[39;49m\u001b[43mkwargs\u001b[49m\u001b[43m)\u001b[49m\n\u001b[0;32m     66\u001b[0m \u001b[38;5;28;01mexcept\u001b[39;00m \u001b[38;5;167;01mException\u001b[39;00m \u001b[38;5;28;01mas\u001b[39;00m e:\n\u001b[0;32m     67\u001b[0m     filtered_tb \u001b[38;5;241m=\u001b[39m _process_traceback_frames(e\u001b[38;5;241m.\u001b[39m__traceback__)\n",
      "File \u001b[1;32mc:\\Users\\Alex Zavalny\\Desktop\\GTA 5 Self Driving Car\\gta5\\lib\\site-packages\\keras\\src\\engine\\training.py:1791\u001b[0m, in \u001b[0;36mModel.fit\u001b[1;34m(self, x, y, batch_size, epochs, verbose, callbacks, validation_split, validation_data, shuffle, class_weight, sample_weight, initial_epoch, steps_per_epoch, validation_steps, validation_batch_size, validation_freq, max_queue_size, workers, use_multiprocessing)\u001b[0m\n\u001b[0;32m   1775\u001b[0m \u001b[38;5;28;01mif\u001b[39;00m \u001b[38;5;28mgetattr\u001b[39m(\u001b[38;5;28mself\u001b[39m, \u001b[38;5;124m\"\u001b[39m\u001b[38;5;124m_eval_data_handler\u001b[39m\u001b[38;5;124m\"\u001b[39m, \u001b[38;5;28;01mNone\u001b[39;00m) \u001b[38;5;129;01mis\u001b[39;00m \u001b[38;5;28;01mNone\u001b[39;00m:\n\u001b[0;32m   1776\u001b[0m     \u001b[38;5;28mself\u001b[39m\u001b[38;5;241m.\u001b[39m_eval_data_handler \u001b[38;5;241m=\u001b[39m data_adapter\u001b[38;5;241m.\u001b[39mget_data_handler(\n\u001b[0;32m   1777\u001b[0m         x\u001b[38;5;241m=\u001b[39mval_x,\n\u001b[0;32m   1778\u001b[0m         y\u001b[38;5;241m=\u001b[39mval_y,\n\u001b[1;32m   (...)\u001b[0m\n\u001b[0;32m   1789\u001b[0m         pss_evaluation_shards\u001b[38;5;241m=\u001b[39m\u001b[38;5;28mself\u001b[39m\u001b[38;5;241m.\u001b[39m_pss_evaluation_shards,\n\u001b[0;32m   1790\u001b[0m     )\n\u001b[1;32m-> 1791\u001b[0m val_logs \u001b[38;5;241m=\u001b[39m \u001b[38;5;28;43mself\u001b[39;49m\u001b[38;5;241;43m.\u001b[39;49m\u001b[43mevaluate\u001b[49m\u001b[43m(\u001b[49m\n\u001b[0;32m   1792\u001b[0m \u001b[43m    \u001b[49m\u001b[43mx\u001b[49m\u001b[38;5;241;43m=\u001b[39;49m\u001b[43mval_x\u001b[49m\u001b[43m,\u001b[49m\n\u001b[0;32m   1793\u001b[0m \u001b[43m    \u001b[49m\u001b[43my\u001b[49m\u001b[38;5;241;43m=\u001b[39;49m\u001b[43mval_y\u001b[49m\u001b[43m,\u001b[49m\n\u001b[0;32m   1794\u001b[0m \u001b[43m    \u001b[49m\u001b[43msample_weight\u001b[49m\u001b[38;5;241;43m=\u001b[39;49m\u001b[43mval_sample_weight\u001b[49m\u001b[43m,\u001b[49m\n\u001b[0;32m   1795\u001b[0m \u001b[43m    \u001b[49m\u001b[43mbatch_size\u001b[49m\u001b[38;5;241;43m=\u001b[39;49m\u001b[43mvalidation_batch_size\u001b[49m\u001b[43m \u001b[49m\u001b[38;5;129;43;01mor\u001b[39;49;00m\u001b[43m \u001b[49m\u001b[43mbatch_size\u001b[49m\u001b[43m,\u001b[49m\n\u001b[0;32m   1796\u001b[0m \u001b[43m    \u001b[49m\u001b[43msteps\u001b[49m\u001b[38;5;241;43m=\u001b[39;49m\u001b[43mvalidation_steps\u001b[49m\u001b[43m,\u001b[49m\n\u001b[0;32m   1797\u001b[0m \u001b[43m    \u001b[49m\u001b[43mcallbacks\u001b[49m\u001b[38;5;241;43m=\u001b[39;49m\u001b[43mcallbacks\u001b[49m\u001b[43m,\u001b[49m\n\u001b[0;32m   1798\u001b[0m \u001b[43m    \u001b[49m\u001b[43mmax_queue_size\u001b[49m\u001b[38;5;241;43m=\u001b[39;49m\u001b[43mmax_queue_size\u001b[49m\u001b[43m,\u001b[49m\n\u001b[0;32m   1799\u001b[0m \u001b[43m    \u001b[49m\u001b[43mworkers\u001b[49m\u001b[38;5;241;43m=\u001b[39;49m\u001b[43mworkers\u001b[49m\u001b[43m,\u001b[49m\n\u001b[0;32m   1800\u001b[0m \u001b[43m    \u001b[49m\u001b[43muse_multiprocessing\u001b[49m\u001b[38;5;241;43m=\u001b[39;49m\u001b[43muse_multiprocessing\u001b[49m\u001b[43m,\u001b[49m\n\u001b[0;32m   1801\u001b[0m \u001b[43m    \u001b[49m\u001b[43mreturn_dict\u001b[49m\u001b[38;5;241;43m=\u001b[39;49m\u001b[38;5;28;43;01mTrue\u001b[39;49;00m\u001b[43m,\u001b[49m\n\u001b[0;32m   1802\u001b[0m \u001b[43m    \u001b[49m\u001b[43m_use_cached_eval_dataset\u001b[49m\u001b[38;5;241;43m=\u001b[39;49m\u001b[38;5;28;43;01mTrue\u001b[39;49;00m\u001b[43m,\u001b[49m\n\u001b[0;32m   1803\u001b[0m \u001b[43m\u001b[49m\u001b[43m)\u001b[49m\n\u001b[0;32m   1804\u001b[0m val_logs \u001b[38;5;241m=\u001b[39m {\n\u001b[0;32m   1805\u001b[0m     \u001b[38;5;124m\"\u001b[39m\u001b[38;5;124mval_\u001b[39m\u001b[38;5;124m\"\u001b[39m \u001b[38;5;241m+\u001b[39m name: val \u001b[38;5;28;01mfor\u001b[39;00m name, val \u001b[38;5;129;01min\u001b[39;00m val_logs\u001b[38;5;241m.\u001b[39mitems()\n\u001b[0;32m   1806\u001b[0m }\n\u001b[0;32m   1807\u001b[0m epoch_logs\u001b[38;5;241m.\u001b[39mupdate(val_logs)\n",
      "File \u001b[1;32mc:\\Users\\Alex Zavalny\\Desktop\\GTA 5 Self Driving Car\\gta5\\lib\\site-packages\\keras\\src\\utils\\traceback_utils.py:65\u001b[0m, in \u001b[0;36mfilter_traceback.<locals>.error_handler\u001b[1;34m(*args, **kwargs)\u001b[0m\n\u001b[0;32m     63\u001b[0m filtered_tb \u001b[38;5;241m=\u001b[39m \u001b[38;5;28;01mNone\u001b[39;00m\n\u001b[0;32m     64\u001b[0m \u001b[38;5;28;01mtry\u001b[39;00m:\n\u001b[1;32m---> 65\u001b[0m     \u001b[38;5;28;01mreturn\u001b[39;00m \u001b[43mfn\u001b[49m\u001b[43m(\u001b[49m\u001b[38;5;241;43m*\u001b[39;49m\u001b[43margs\u001b[49m\u001b[43m,\u001b[49m\u001b[43m \u001b[49m\u001b[38;5;241;43m*\u001b[39;49m\u001b[38;5;241;43m*\u001b[39;49m\u001b[43mkwargs\u001b[49m\u001b[43m)\u001b[49m\n\u001b[0;32m     66\u001b[0m \u001b[38;5;28;01mexcept\u001b[39;00m \u001b[38;5;167;01mException\u001b[39;00m \u001b[38;5;28;01mas\u001b[39;00m e:\n\u001b[0;32m     67\u001b[0m     filtered_tb \u001b[38;5;241m=\u001b[39m _process_traceback_frames(e\u001b[38;5;241m.\u001b[39m__traceback__)\n",
      "File \u001b[1;32mc:\\Users\\Alex Zavalny\\Desktop\\GTA 5 Self Driving Car\\gta5\\lib\\site-packages\\keras\\src\\engine\\training.py:2200\u001b[0m, in \u001b[0;36mModel.evaluate\u001b[1;34m(self, x, y, batch_size, verbose, sample_weight, steps, callbacks, max_queue_size, workers, use_multiprocessing, return_dict, **kwargs)\u001b[0m\n\u001b[0;32m   2196\u001b[0m             \u001b[38;5;28;01mwith\u001b[39;00m tf\u001b[38;5;241m.\u001b[39mprofiler\u001b[38;5;241m.\u001b[39mexperimental\u001b[38;5;241m.\u001b[39mTrace(\n\u001b[0;32m   2197\u001b[0m                 \u001b[38;5;124m\"\u001b[39m\u001b[38;5;124mtest\u001b[39m\u001b[38;5;124m\"\u001b[39m, step_num\u001b[38;5;241m=\u001b[39mstep, _r\u001b[38;5;241m=\u001b[39m\u001b[38;5;241m1\u001b[39m\n\u001b[0;32m   2198\u001b[0m             ):\n\u001b[0;32m   2199\u001b[0m                 callbacks\u001b[38;5;241m.\u001b[39mon_test_batch_begin(step)\n\u001b[1;32m-> 2200\u001b[0m                 logs \u001b[38;5;241m=\u001b[39m \u001b[43mtest_function_runner\u001b[49m\u001b[38;5;241;43m.\u001b[39;49m\u001b[43mrun_step\u001b[49m\u001b[43m(\u001b[49m\n\u001b[0;32m   2201\u001b[0m \u001b[43m                    \u001b[49m\u001b[43mdataset_or_iterator\u001b[49m\u001b[43m,\u001b[49m\n\u001b[0;32m   2202\u001b[0m \u001b[43m                    \u001b[49m\u001b[43mdata_handler\u001b[49m\u001b[43m,\u001b[49m\n\u001b[0;32m   2203\u001b[0m \u001b[43m                    \u001b[49m\u001b[43mstep\u001b[49m\u001b[43m,\u001b[49m\n\u001b[0;32m   2204\u001b[0m \u001b[43m                    \u001b[49m\u001b[38;5;28;43mself\u001b[39;49m\u001b[38;5;241;43m.\u001b[39;49m\u001b[43m_pss_evaluation_shards\u001b[49m\u001b[43m,\u001b[49m\n\u001b[0;32m   2205\u001b[0m \u001b[43m                \u001b[49m\u001b[43m)\u001b[49m\n\u001b[0;32m   2207\u001b[0m logs \u001b[38;5;241m=\u001b[39m tf_utils\u001b[38;5;241m.\u001b[39msync_to_numpy_or_python_type(logs)\n\u001b[0;32m   2208\u001b[0m \u001b[38;5;66;03m# Override with model metrics instead of last step logs\u001b[39;00m\n",
      "File \u001b[1;32mc:\\Users\\Alex Zavalny\\Desktop\\GTA 5 Self Driving Car\\gta5\\lib\\site-packages\\keras\\src\\engine\\training.py:4000\u001b[0m, in \u001b[0;36m_TestFunction.run_step\u001b[1;34m(self, dataset_or_iterator, data_handler, step, unused_shards)\u001b[0m\n\u001b[0;32m   3999\u001b[0m \u001b[38;5;28;01mdef\u001b[39;00m \u001b[38;5;21mrun_step\u001b[39m(\u001b[38;5;28mself\u001b[39m, dataset_or_iterator, data_handler, step, unused_shards):\n\u001b[1;32m-> 4000\u001b[0m     tmp_logs \u001b[38;5;241m=\u001b[39m \u001b[38;5;28;43mself\u001b[39;49m\u001b[38;5;241;43m.\u001b[39;49m\u001b[43m_function\u001b[49m\u001b[43m(\u001b[49m\u001b[43mdataset_or_iterator\u001b[49m\u001b[43m)\u001b[49m\n\u001b[0;32m   4001\u001b[0m     \u001b[38;5;28;01mif\u001b[39;00m data_handler\u001b[38;5;241m.\u001b[39mshould_sync:\n\u001b[0;32m   4002\u001b[0m         context\u001b[38;5;241m.\u001b[39masync_wait()\n",
      "File \u001b[1;32mc:\\Users\\Alex Zavalny\\Desktop\\GTA 5 Self Driving Car\\gta5\\lib\\site-packages\\tensorflow\\python\\util\\traceback_utils.py:150\u001b[0m, in \u001b[0;36mfilter_traceback.<locals>.error_handler\u001b[1;34m(*args, **kwargs)\u001b[0m\n\u001b[0;32m    148\u001b[0m filtered_tb \u001b[38;5;241m=\u001b[39m \u001b[38;5;28;01mNone\u001b[39;00m\n\u001b[0;32m    149\u001b[0m \u001b[38;5;28;01mtry\u001b[39;00m:\n\u001b[1;32m--> 150\u001b[0m   \u001b[38;5;28;01mreturn\u001b[39;00m \u001b[43mfn\u001b[49m\u001b[43m(\u001b[49m\u001b[38;5;241;43m*\u001b[39;49m\u001b[43margs\u001b[49m\u001b[43m,\u001b[49m\u001b[43m \u001b[49m\u001b[38;5;241;43m*\u001b[39;49m\u001b[38;5;241;43m*\u001b[39;49m\u001b[43mkwargs\u001b[49m\u001b[43m)\u001b[49m\n\u001b[0;32m    151\u001b[0m \u001b[38;5;28;01mexcept\u001b[39;00m \u001b[38;5;167;01mException\u001b[39;00m \u001b[38;5;28;01mas\u001b[39;00m e:\n\u001b[0;32m    152\u001b[0m   filtered_tb \u001b[38;5;241m=\u001b[39m _process_traceback_frames(e\u001b[38;5;241m.\u001b[39m__traceback__)\n",
      "File \u001b[1;32mc:\\Users\\Alex Zavalny\\Desktop\\GTA 5 Self Driving Car\\gta5\\lib\\site-packages\\tensorflow\\python\\eager\\polymorphic_function\\polymorphic_function.py:825\u001b[0m, in \u001b[0;36mFunction.__call__\u001b[1;34m(self, *args, **kwds)\u001b[0m\n\u001b[0;32m    822\u001b[0m compiler \u001b[38;5;241m=\u001b[39m \u001b[38;5;124m\"\u001b[39m\u001b[38;5;124mxla\u001b[39m\u001b[38;5;124m\"\u001b[39m \u001b[38;5;28;01mif\u001b[39;00m \u001b[38;5;28mself\u001b[39m\u001b[38;5;241m.\u001b[39m_jit_compile \u001b[38;5;28;01melse\u001b[39;00m \u001b[38;5;124m\"\u001b[39m\u001b[38;5;124mnonXla\u001b[39m\u001b[38;5;124m\"\u001b[39m\n\u001b[0;32m    824\u001b[0m \u001b[38;5;28;01mwith\u001b[39;00m OptionalXlaContext(\u001b[38;5;28mself\u001b[39m\u001b[38;5;241m.\u001b[39m_jit_compile):\n\u001b[1;32m--> 825\u001b[0m   result \u001b[38;5;241m=\u001b[39m \u001b[38;5;28;43mself\u001b[39;49m\u001b[38;5;241;43m.\u001b[39;49m\u001b[43m_call\u001b[49m\u001b[43m(\u001b[49m\u001b[38;5;241;43m*\u001b[39;49m\u001b[43margs\u001b[49m\u001b[43m,\u001b[49m\u001b[43m \u001b[49m\u001b[38;5;241;43m*\u001b[39;49m\u001b[38;5;241;43m*\u001b[39;49m\u001b[43mkwds\u001b[49m\u001b[43m)\u001b[49m\n\u001b[0;32m    827\u001b[0m new_tracing_count \u001b[38;5;241m=\u001b[39m \u001b[38;5;28mself\u001b[39m\u001b[38;5;241m.\u001b[39mexperimental_get_tracing_count()\n\u001b[0;32m    828\u001b[0m without_tracing \u001b[38;5;241m=\u001b[39m (tracing_count \u001b[38;5;241m==\u001b[39m new_tracing_count)\n",
      "File \u001b[1;32mc:\\Users\\Alex Zavalny\\Desktop\\GTA 5 Self Driving Car\\gta5\\lib\\site-packages\\tensorflow\\python\\eager\\polymorphic_function\\polymorphic_function.py:864\u001b[0m, in \u001b[0;36mFunction._call\u001b[1;34m(self, *args, **kwds)\u001b[0m\n\u001b[0;32m    861\u001b[0m \u001b[38;5;28mself\u001b[39m\u001b[38;5;241m.\u001b[39m_lock\u001b[38;5;241m.\u001b[39mrelease()\n\u001b[0;32m    862\u001b[0m \u001b[38;5;66;03m# In this case we have not created variables on the first call. So we can\u001b[39;00m\n\u001b[0;32m    863\u001b[0m \u001b[38;5;66;03m# run the first trace but we should fail if variables are created.\u001b[39;00m\n\u001b[1;32m--> 864\u001b[0m results \u001b[38;5;241m=\u001b[39m \u001b[38;5;28;43mself\u001b[39;49m\u001b[38;5;241;43m.\u001b[39;49m\u001b[43m_variable_creation_fn\u001b[49m\u001b[43m(\u001b[49m\u001b[38;5;241;43m*\u001b[39;49m\u001b[43margs\u001b[49m\u001b[43m,\u001b[49m\u001b[43m \u001b[49m\u001b[38;5;241;43m*\u001b[39;49m\u001b[38;5;241;43m*\u001b[39;49m\u001b[43mkwds\u001b[49m\u001b[43m)\u001b[49m\n\u001b[0;32m    865\u001b[0m \u001b[38;5;28;01mif\u001b[39;00m \u001b[38;5;28mself\u001b[39m\u001b[38;5;241m.\u001b[39m_created_variables \u001b[38;5;129;01mand\u001b[39;00m \u001b[38;5;129;01mnot\u001b[39;00m ALLOW_DYNAMIC_VARIABLE_CREATION:\n\u001b[0;32m    866\u001b[0m   \u001b[38;5;28;01mraise\u001b[39;00m \u001b[38;5;167;01mValueError\u001b[39;00m(\u001b[38;5;124m\"\u001b[39m\u001b[38;5;124mCreating variables on a non-first call to a function\u001b[39m\u001b[38;5;124m\"\u001b[39m\n\u001b[0;32m    867\u001b[0m                    \u001b[38;5;124m\"\u001b[39m\u001b[38;5;124m decorated with tf.function.\u001b[39m\u001b[38;5;124m\"\u001b[39m)\n",
      "File \u001b[1;32mc:\\Users\\Alex Zavalny\\Desktop\\GTA 5 Self Driving Car\\gta5\\lib\\site-packages\\tensorflow\\python\\eager\\polymorphic_function\\tracing_compiler.py:148\u001b[0m, in \u001b[0;36mTracingCompiler.__call__\u001b[1;34m(self, *args, **kwargs)\u001b[0m\n\u001b[0;32m    145\u001b[0m \u001b[38;5;28;01mwith\u001b[39;00m \u001b[38;5;28mself\u001b[39m\u001b[38;5;241m.\u001b[39m_lock:\n\u001b[0;32m    146\u001b[0m   (concrete_function,\n\u001b[0;32m    147\u001b[0m    filtered_flat_args) \u001b[38;5;241m=\u001b[39m \u001b[38;5;28mself\u001b[39m\u001b[38;5;241m.\u001b[39m_maybe_define_function(args, kwargs)\n\u001b[1;32m--> 148\u001b[0m \u001b[38;5;28;01mreturn\u001b[39;00m \u001b[43mconcrete_function\u001b[49m\u001b[38;5;241;43m.\u001b[39;49m\u001b[43m_call_flat\u001b[49m\u001b[43m(\u001b[49m\n\u001b[0;32m    149\u001b[0m \u001b[43m    \u001b[49m\u001b[43mfiltered_flat_args\u001b[49m\u001b[43m,\u001b[49m\u001b[43m \u001b[49m\u001b[43mcaptured_inputs\u001b[49m\u001b[38;5;241;43m=\u001b[39;49m\u001b[43mconcrete_function\u001b[49m\u001b[38;5;241;43m.\u001b[39;49m\u001b[43mcaptured_inputs\u001b[49m\u001b[43m)\u001b[49m\n",
      "File \u001b[1;32mc:\\Users\\Alex Zavalny\\Desktop\\GTA 5 Self Driving Car\\gta5\\lib\\site-packages\\tensorflow\\python\\eager\\polymorphic_function\\monomorphic_function.py:1349\u001b[0m, in \u001b[0;36mConcreteFunction._call_flat\u001b[1;34m(self, args, captured_inputs)\u001b[0m\n\u001b[0;32m   1345\u001b[0m possible_gradient_type \u001b[38;5;241m=\u001b[39m gradients_util\u001b[38;5;241m.\u001b[39mPossibleTapeGradientTypes(args)\n\u001b[0;32m   1346\u001b[0m \u001b[38;5;28;01mif\u001b[39;00m (possible_gradient_type \u001b[38;5;241m==\u001b[39m gradients_util\u001b[38;5;241m.\u001b[39mPOSSIBLE_GRADIENT_TYPES_NONE\n\u001b[0;32m   1347\u001b[0m     \u001b[38;5;129;01mand\u001b[39;00m executing_eagerly):\n\u001b[0;32m   1348\u001b[0m   \u001b[38;5;66;03m# No tape is watching; skip to running the function.\u001b[39;00m\n\u001b[1;32m-> 1349\u001b[0m   \u001b[38;5;28;01mreturn\u001b[39;00m \u001b[38;5;28mself\u001b[39m\u001b[38;5;241m.\u001b[39m_build_call_outputs(\u001b[38;5;28;43mself\u001b[39;49m\u001b[38;5;241;43m.\u001b[39;49m\u001b[43m_inference_function\u001b[49m\u001b[43m(\u001b[49m\u001b[38;5;241;43m*\u001b[39;49m\u001b[43margs\u001b[49m\u001b[43m)\u001b[49m)\n\u001b[0;32m   1350\u001b[0m forward_backward \u001b[38;5;241m=\u001b[39m \u001b[38;5;28mself\u001b[39m\u001b[38;5;241m.\u001b[39m_select_forward_and_backward_functions(\n\u001b[0;32m   1351\u001b[0m     args,\n\u001b[0;32m   1352\u001b[0m     possible_gradient_type,\n\u001b[0;32m   1353\u001b[0m     executing_eagerly)\n\u001b[0;32m   1354\u001b[0m forward_function, args_with_tangents \u001b[38;5;241m=\u001b[39m forward_backward\u001b[38;5;241m.\u001b[39mforward()\n",
      "File \u001b[1;32mc:\\Users\\Alex Zavalny\\Desktop\\GTA 5 Self Driving Car\\gta5\\lib\\site-packages\\tensorflow\\python\\eager\\polymorphic_function\\atomic_function.py:196\u001b[0m, in \u001b[0;36mAtomicFunction.__call__\u001b[1;34m(self, *args)\u001b[0m\n\u001b[0;32m    194\u001b[0m \u001b[38;5;28;01mwith\u001b[39;00m record\u001b[38;5;241m.\u001b[39mstop_recording():\n\u001b[0;32m    195\u001b[0m   \u001b[38;5;28;01mif\u001b[39;00m \u001b[38;5;28mself\u001b[39m\u001b[38;5;241m.\u001b[39m_bound_context\u001b[38;5;241m.\u001b[39mexecuting_eagerly():\n\u001b[1;32m--> 196\u001b[0m     outputs \u001b[38;5;241m=\u001b[39m \u001b[38;5;28;43mself\u001b[39;49m\u001b[38;5;241;43m.\u001b[39;49m\u001b[43m_bound_context\u001b[49m\u001b[38;5;241;43m.\u001b[39;49m\u001b[43mcall_function\u001b[49m\u001b[43m(\u001b[49m\n\u001b[0;32m    197\u001b[0m \u001b[43m        \u001b[49m\u001b[38;5;28;43mself\u001b[39;49m\u001b[38;5;241;43m.\u001b[39;49m\u001b[43mname\u001b[49m\u001b[43m,\u001b[49m\n\u001b[0;32m    198\u001b[0m \u001b[43m        \u001b[49m\u001b[38;5;28;43mlist\u001b[39;49m\u001b[43m(\u001b[49m\u001b[43margs\u001b[49m\u001b[43m)\u001b[49m\u001b[43m,\u001b[49m\n\u001b[0;32m    199\u001b[0m \u001b[43m        \u001b[49m\u001b[38;5;28;43mlen\u001b[39;49m\u001b[43m(\u001b[49m\u001b[38;5;28;43mself\u001b[39;49m\u001b[38;5;241;43m.\u001b[39;49m\u001b[43mfunction_type\u001b[49m\u001b[38;5;241;43m.\u001b[39;49m\u001b[43mflat_outputs\u001b[49m\u001b[43m)\u001b[49m\u001b[43m,\u001b[49m\n\u001b[0;32m    200\u001b[0m \u001b[43m    \u001b[49m\u001b[43m)\u001b[49m\n\u001b[0;32m    201\u001b[0m   \u001b[38;5;28;01melse\u001b[39;00m:\n\u001b[0;32m    202\u001b[0m     outputs \u001b[38;5;241m=\u001b[39m make_call_op_in_graph(\u001b[38;5;28mself\u001b[39m, \u001b[38;5;28mlist\u001b[39m(args))\n",
      "File \u001b[1;32mc:\\Users\\Alex Zavalny\\Desktop\\GTA 5 Self Driving Car\\gta5\\lib\\site-packages\\tensorflow\\python\\eager\\context.py:1457\u001b[0m, in \u001b[0;36mContext.call_function\u001b[1;34m(self, name, tensor_inputs, num_outputs)\u001b[0m\n\u001b[0;32m   1455\u001b[0m cancellation_context \u001b[38;5;241m=\u001b[39m cancellation\u001b[38;5;241m.\u001b[39mcontext()\n\u001b[0;32m   1456\u001b[0m \u001b[38;5;28;01mif\u001b[39;00m cancellation_context \u001b[38;5;129;01mis\u001b[39;00m \u001b[38;5;28;01mNone\u001b[39;00m:\n\u001b[1;32m-> 1457\u001b[0m   outputs \u001b[38;5;241m=\u001b[39m \u001b[43mexecute\u001b[49m\u001b[38;5;241;43m.\u001b[39;49m\u001b[43mexecute\u001b[49m\u001b[43m(\u001b[49m\n\u001b[0;32m   1458\u001b[0m \u001b[43m      \u001b[49m\u001b[43mname\u001b[49m\u001b[38;5;241;43m.\u001b[39;49m\u001b[43mdecode\u001b[49m\u001b[43m(\u001b[49m\u001b[38;5;124;43m\"\u001b[39;49m\u001b[38;5;124;43mutf-8\u001b[39;49m\u001b[38;5;124;43m\"\u001b[39;49m\u001b[43m)\u001b[49m\u001b[43m,\u001b[49m\n\u001b[0;32m   1459\u001b[0m \u001b[43m      \u001b[49m\u001b[43mnum_outputs\u001b[49m\u001b[38;5;241;43m=\u001b[39;49m\u001b[43mnum_outputs\u001b[49m\u001b[43m,\u001b[49m\n\u001b[0;32m   1460\u001b[0m \u001b[43m      \u001b[49m\u001b[43minputs\u001b[49m\u001b[38;5;241;43m=\u001b[39;49m\u001b[43mtensor_inputs\u001b[49m\u001b[43m,\u001b[49m\n\u001b[0;32m   1461\u001b[0m \u001b[43m      \u001b[49m\u001b[43mattrs\u001b[49m\u001b[38;5;241;43m=\u001b[39;49m\u001b[43mattrs\u001b[49m\u001b[43m,\u001b[49m\n\u001b[0;32m   1462\u001b[0m \u001b[43m      \u001b[49m\u001b[43mctx\u001b[49m\u001b[38;5;241;43m=\u001b[39;49m\u001b[38;5;28;43mself\u001b[39;49m\u001b[43m,\u001b[49m\n\u001b[0;32m   1463\u001b[0m \u001b[43m  \u001b[49m\u001b[43m)\u001b[49m\n\u001b[0;32m   1464\u001b[0m \u001b[38;5;28;01melse\u001b[39;00m:\n\u001b[0;32m   1465\u001b[0m   outputs \u001b[38;5;241m=\u001b[39m execute\u001b[38;5;241m.\u001b[39mexecute_with_cancellation(\n\u001b[0;32m   1466\u001b[0m       name\u001b[38;5;241m.\u001b[39mdecode(\u001b[38;5;124m\"\u001b[39m\u001b[38;5;124mutf-8\u001b[39m\u001b[38;5;124m\"\u001b[39m),\n\u001b[0;32m   1467\u001b[0m       num_outputs\u001b[38;5;241m=\u001b[39mnum_outputs,\n\u001b[1;32m   (...)\u001b[0m\n\u001b[0;32m   1471\u001b[0m       cancellation_manager\u001b[38;5;241m=\u001b[39mcancellation_context,\n\u001b[0;32m   1472\u001b[0m   )\n",
      "File \u001b[1;32mc:\\Users\\Alex Zavalny\\Desktop\\GTA 5 Self Driving Car\\gta5\\lib\\site-packages\\tensorflow\\python\\eager\\execute.py:53\u001b[0m, in \u001b[0;36mquick_execute\u001b[1;34m(op_name, num_outputs, inputs, attrs, ctx, name)\u001b[0m\n\u001b[0;32m     51\u001b[0m \u001b[38;5;28;01mtry\u001b[39;00m:\n\u001b[0;32m     52\u001b[0m   ctx\u001b[38;5;241m.\u001b[39mensure_initialized()\n\u001b[1;32m---> 53\u001b[0m   tensors \u001b[38;5;241m=\u001b[39m \u001b[43mpywrap_tfe\u001b[49m\u001b[38;5;241;43m.\u001b[39;49m\u001b[43mTFE_Py_Execute\u001b[49m\u001b[43m(\u001b[49m\u001b[43mctx\u001b[49m\u001b[38;5;241;43m.\u001b[39;49m\u001b[43m_handle\u001b[49m\u001b[43m,\u001b[49m\u001b[43m \u001b[49m\u001b[43mdevice_name\u001b[49m\u001b[43m,\u001b[49m\u001b[43m \u001b[49m\u001b[43mop_name\u001b[49m\u001b[43m,\u001b[49m\n\u001b[0;32m     54\u001b[0m \u001b[43m                                      \u001b[49m\u001b[43minputs\u001b[49m\u001b[43m,\u001b[49m\u001b[43m \u001b[49m\u001b[43mattrs\u001b[49m\u001b[43m,\u001b[49m\u001b[43m \u001b[49m\u001b[43mnum_outputs\u001b[49m\u001b[43m)\u001b[49m\n\u001b[0;32m     55\u001b[0m \u001b[38;5;28;01mexcept\u001b[39;00m core\u001b[38;5;241m.\u001b[39m_NotOkStatusException \u001b[38;5;28;01mas\u001b[39;00m e:\n\u001b[0;32m     56\u001b[0m   \u001b[38;5;28;01mif\u001b[39;00m name \u001b[38;5;129;01mis\u001b[39;00m \u001b[38;5;129;01mnot\u001b[39;00m \u001b[38;5;28;01mNone\u001b[39;00m:\n",
      "\u001b[1;31mKeyboardInterrupt\u001b[0m: "
     ]
    }
   ],
   "source": [
    "history3 = model3.fit(X_train_scaled, Y_train, epochs=50, batch_size=32, validation_data=(X_test_scaled, Y_test))"
   ]
  },
  {
   "cell_type": "code",
   "execution_count": null,
   "metadata": {},
   "outputs": [],
   "source": [
    "model3.save(\"model3.h5\")\n",
    "model3.save(\"model3.keras\")"
   ]
  },
  {
   "cell_type": "code",
   "execution_count": null,
   "metadata": {},
   "outputs": [],
   "source": [
    "plt.title(\"ResNet50 Model Training\")\n",
    "plt.plot(history3.history['accuracy'], label=\"accuracy\")\n",
    "plt.plot(history3.history['val_accuracy'], label=\"val accuracy\")\n",
    "plt.xlabel('epoch')\n",
    "plt.ylabel(\"accuracy\")\n",
    "plt.legend()\n",
    "plt.show()"
   ]
  },
  {
   "cell_type": "markdown",
   "metadata": {},
   "source": [
    "Resnet50 scaling + trainable pretrained layers (ImageNet):"
   ]
  }
 ],
 "metadata": {
  "kernelspec": {
   "display_name": "gta5",
   "language": "python",
   "name": "python3"
  },
  "language_info": {
   "codemirror_mode": {
    "name": "ipython",
    "version": 3
   },
   "file_extension": ".py",
   "mimetype": "text/x-python",
   "name": "python",
   "nbconvert_exporter": "python",
   "pygments_lexer": "ipython3",
   "version": "3.8.10"
  }
 },
 "nbformat": 4,
 "nbformat_minor": 2
}
